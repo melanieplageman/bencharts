{
 "cells": [
  {
   "cell_type": "code",
   "execution_count": null,
   "id": "4a6b35b3",
   "metadata": {
    "scrolled": false
   },
   "outputs": [],
   "source": [
    "%load_ext autoreload\n",
    "%autoreload 2\n",
    "\n",
    "import matplotlib.pyplot as plt\n",
    "from renderer import SubGridSpecRenderer, GridSpecRenderer, AxesRenderer, \\\n",
    "PlotRenderer\n",
    "import os\n",
    "from benchart import BenchArt, Run\n",
    "from metadata import RunMetadata\n",
    "from loader import flatten, extract, normalize\n",
    "\n",
    "\n",
    "results_dir='run_data2'\n",
    "runs = []\n",
    "for i, datafile in enumerate(os.listdir(results_dir)):\n",
    "    all_data = extract(os.path.join(results_dir, datafile))\n",
    "    data = all_data['data']['pgbench']['progress']\n",
    "    metadata = all_data['metadata']\n",
    "    runs.append(Run(i + 1, data, RunMetadata(flatten(metadata))))\n",
    "\n",
    "normalize(runs)\n",
    "\n",
    "\n",
    "benchart = BenchArt(runs)\n",
    "# TODO: specify partitions and renderers together\n",
    "\n",
    "benchart.part('benchmark_config_scale')\n",
    "benchart.ignore('machine_instance_hostinfo_KernelRelease',\n",
    "                'machine_disk_block_device_settings_nr_hw_queues',\n",
    "                'machine_disk_block_device_settings_nr_requests',\n",
    "                'machine_disk_block_device_settings_queue_depth',\n",
    "                'machine_disk_block_device_settings_scheduler',\n",
    "                'postgres.gucs.set_gucs.huge_pages')\n",
    "\n",
    "root = benchart.run()\n",
    "\n",
    "\n",
    "figure = plt.figure(figsize=(15,30))\n",
    "size = figure.get_size_inches()\n",
    "renderers = [\n",
    "        GridSpecRenderer(figure),\n",
    "        SubGridSpecRenderer(figure),\n",
    "        AxesRenderer(figure),\n",
    "        PlotRenderer(figure),\n",
    "        ]\n",
    "\n",
    "renderers[0](renderers[1:], root)"
   ]
  }
 ],
 "metadata": {
  "kernelspec": {
   "display_name": "Python 3 (ipykernel)",
   "language": "python",
   "name": "python3"
  },
  "language_info": {
   "codemirror_mode": {
    "name": "ipython",
    "version": 3
   },
   "file_extension": ".py",
   "mimetype": "text/x-python",
   "name": "python",
   "nbconvert_exporter": "python",
   "pygments_lexer": "ipython3",
   "version": "3.10.4"
  }
 },
 "nbformat": 4,
 "nbformat_minor": 5
}
