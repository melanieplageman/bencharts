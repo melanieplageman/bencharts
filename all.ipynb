{
 "cells": [
  {
   "cell_type": "code",
   "execution_count": null,
   "id": "4a6b35b3",
   "metadata": {
    "scrolled": false
   },
   "outputs": [],
   "source": [
    "%load_ext autoreload\n",
    "%autoreload 2\n",
    "\n",
    "import matplotlib.pyplot as plt\n",
    "from renderer import SubGridSpecRenderer, GridSpecRenderer, AxesRenderer, \\\n",
    "PlotRenderer, render\n",
    "import os\n",
    "from benchart import BenchArt, Run\n",
    "from metadata import RunMetadata\n",
    "from loader import Loader\n",
    "\n",
    "def discard_large_read(all_data):\n",
    "    large_read = all_data['metadata']['benchmark'].get('large_read', None)\n",
    "    if large_read is None or large_read == '' or large_read == 'none':\n",
    "        return False\n",
    "    return True\n",
    "\n",
    "def data_def(all_data):\n",
    "    return all_data['data']['pgbench']['progress']\n",
    "\n",
    "def metadata_def(all_data):\n",
    "    return all_data['metadata']\n",
    "\n",
    "loader = Loader('run_data2')\n",
    "loader.discard(discard_large_read)\n",
    "runs = loader.run(data_def, metadata_def)\n",
    "\n",
    "benchart = BenchArt(runs)\n",
    "\n",
    "relabels = {\n",
    "    'machine_instance_hostinfo_Hostname': 'host',\n",
    "    'benchmark_config_scale': 'scale',\n",
    "    'machine_instance_hostinfo_KernelRelease': 'kernel',\n",
    "    'machine_disk_block_device_settings_nr_hw_queues': '#hwq',\n",
    "    'machine_disk_block_device_settings_nr_requests': 'nr_requests',\n",
    "    'machine_disk_block_device_settings_queue_depth': 'queue_depth',\n",
    "    'machine_disk_block_device_settings_scheduler': 'scheduler',\n",
    "    'postgres.gucs.set_gucs.huge_pages': 'huge_pages',\n",
    "}\n",
    "\n",
    "figure = plt.figure(figsize=(15,40), constrained_layout=True)\n",
    "\n",
    "\n",
    "disk_identifier = ['machine_disk_limits_burst_iops',\n",
    "                   'machine_disk_limits_iops', 'machine_disk_limits_size',\n",
    "                   'machine_disk_limits_burst_bw_mbps',\n",
    "                   'machine_disk_limits_bw_mbps', 'machine_disk_size_gb', ]\n",
    "\n",
    "benchart.part(SubGridSpecRenderer(figure, relabels), 'machine_instance_hostinfo_Hostname',\n",
    "              'machine_instance_type', *disk_identifier)\n",
    "\n",
    "\n",
    "benchart.part(SubGridSpecRenderer(figure, relabels), 'benchmark_config_scale')\n",
    "benchart.part(SubGridSpecRenderer(figure, relabels), 'benchmark_large_read')\n",
    "\n",
    "benchart.ignore('machine_instance_hostinfo_KernelRelease',\n",
    "                'machine_disk_block_device_settings_nr_hw_queues',\n",
    "                'machine_disk_block_device_settings_nr_requests',\n",
    "                'machine_disk_block_device_settings_queue_depth',\n",
    "                'machine_disk_block_device_settings_scheduler',\n",
    "                'postgres.gucs.set_gucs.huge_pages')\n",
    "\n",
    "gs = render(benchart, figure, relabels)\n"
   ]
  }
 ],
 "metadata": {
  "kernelspec": {
   "display_name": "Python 3 (ipykernel)",
   "language": "python",
   "name": "python3"
  },
  "language_info": {
   "codemirror_mode": {
    "name": "ipython",
    "version": 3
   },
   "file_extension": ".py",
   "mimetype": "text/x-python",
   "name": "python",
   "nbconvert_exporter": "python",
   "pygments_lexer": "ipython3",
   "version": "3.10.4"
  }
 },
 "nbformat": 4,
 "nbformat_minor": 5
}
